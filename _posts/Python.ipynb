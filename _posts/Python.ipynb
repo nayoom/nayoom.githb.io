{
  "nbformat": 4,
  "nbformat_minor": 0,
  "metadata": {
    "colab": {
      "name": "Python.ipynb",
      "provenance": [],
      "collapsed_sections": [
        "w-qaj0fecrC1",
        "-PXRokSec8Q2",
        "YxZFIVWpf3hT"
      ],
      "toc_visible": true
    },
    "kernelspec": {
      "name": "python3",
      "display_name": "Python 3"
    },
    "language_info": {
      "name": "python"
    }
  },
  "cells": [
    {
      "cell_type": "markdown",
      "metadata": {
        "id": "HTqHcHOGi367"
      },
      "source": [
        "# **4-1 문자열**"
      ]
    },
    {
      "cell_type": "code",
      "metadata": {
        "colab": {
          "base_uri": "https://localhost:8080/"
        },
        "id": "blV0KZOtizBG",
        "outputId": "8e1c1ede-5a2b-4c9c-cccd-592aa023dca1"
      },
      "source": [
        "sentence='나는 소년입니다.'\n",
        "print(sentence)\n",
        "sentence2=\"파이썬은 쉬워요\"\n",
        "print(sentence2)\n",
        "sentence3=\"\"\"\n",
        "나는 소년이고,\n",
        "파이썬은 쉬워요\n",
        "\"\"\"\n",
        "print(sentence3)"
      ],
      "execution_count": null,
      "outputs": [
        {
          "output_type": "stream",
          "text": [
            "나는 소년입니다.\n",
            "파이썬은 쉬워요\n",
            "\n",
            "나는 소년이고,\n",
            "파이썬은 쉬워요\n",
            "\n"
          ],
          "name": "stdout"
        }
      ]
    },
    {
      "cell_type": "markdown",
      "metadata": {
        "id": "w-qaj0fecrC1"
      },
      "source": [
        "# **4-2 슬라이싱**"
      ]
    },
    {
      "cell_type": "code",
      "metadata": {
        "id": "tsEWmpHQjORi"
      },
      "source": [
        "from google.colab import drive\n",
        "drive.mount('/content/drive')"
      ],
      "execution_count": null,
      "outputs": []
    },
    {
      "cell_type": "code",
      "metadata": {
        "colab": {
          "base_uri": "https://localhost:8080/"
        },
        "id": "0GVpY1dSarsn",
        "outputId": "f2553624-2579-4b3f-aa9d-9a59ff8c3a8d"
      },
      "source": [
        "jumin=\"961016-1234567\"\n",
        "\n",
        "print(\"성별 : \"+ jumin[7])\n",
        "print(\"연 : \"+jumin[0:2]) # 0 부터 2 직전까지(0~1)\n",
        "print(\"월 : \"+jumin[2:4])\n",
        "print(\"일 : \"+jumin[4:6])\n",
        "\n",
        "print(\"생년월일 : \"+jumin[:6]) #처음부터 6직전까지\n",
        "print(\"뒤 7자리 : \"+jumin[7:]) #처음부터 끝까지\n",
        "print(\"뒤 7차리(뒤에서부터) : \"+jumin[-7:]) #맨 뒤에서 7번째부터 끝까지"
      ],
      "execution_count": null,
      "outputs": [
        {
          "output_type": "stream",
          "text": [
            "성별 : 1\n",
            "연 : 96\n",
            "월 : 10\n",
            "일 : 16\n",
            "생년월일 : 961016\n",
            "뒤 7자리 : 1234567\n",
            "뒤 7차리(뒤에서부터) : 1234567\n"
          ],
          "name": "stdout"
        }
      ]
    },
    {
      "cell_type": "markdown",
      "metadata": {
        "id": "YxZFIVWpf3hT"
      },
      "source": [
        "# **4-4 문자열 포맷**\n",
        "\n",
        "%d = 정수값\n",
        "\n",
        "%s = 문자열\n",
        "\n",
        "%c = 문자(1글자)\n",
        "\n",
        "{ } .foramt"
      ]
    },
    {
      "cell_type": "code",
      "metadata": {
        "colab": {
          "base_uri": "https://localhost:8080/"
        },
        "id": "LPSRCVc3f-AC",
        "outputId": "f206fc8c-4eb4-4935-cb62-ac6e74cfc65f"
      },
      "source": [
        "#방법1\n",
        "print(\"나는 %d 살입니다.\" %20)\n",
        "print(\"나는 %s을 좋아해요\"%\"파이썬\")\n",
        "print(\"Apple은 %c로 시작해요\"%\"A\")\n",
        "print(\"나는 %s색과 %s색을 좋아해요.\"%(\"파란\",\"빨간\"))\n",
        "\n",
        "#방법2\n",
        "print(\"나는 {}살입니다.\".format(20))\n",
        "print(\"나는 {}색과 {}색을 좋아해요\".format(\"파란\",\"빨간\"))\n",
        "print(\"나는 {0}색과 {1}색을 좋아해요\".format(\"파란\",\"빨간\"))\n",
        "print(\"나는 {1}색과 {0}색을 좋아해요\".format(\"파란\",\"빨간\"))\n",
        "\n",
        "#방법3\n",
        "print(\"나는 {age}살이며, {color}색을 좋아해요\".format(age=20, color=\"빨간\"))\n",
        "\n",
        "#방법4\n",
        "age = 20\n",
        "color=\"빨간\"\n",
        "print(f\"나는 {age}살이며, {color}색을 좋아해요\")"
      ],
      "execution_count": null,
      "outputs": [
        {
          "output_type": "stream",
          "text": [
            "나는 20 살입니다.\n",
            "나는 파이썬을 좋아해요\n",
            "Apple은 A로 시작해요\n",
            "나는 파란색과 빨간색을 좋아해요.\n",
            "나는 20살입니다.\n",
            "나는 파란색과 빨간색을 좋아해요\n",
            "나는 파란색과 빨간색을 좋아해요\n",
            "나는 빨간색과 파란색을 좋아해요\n",
            "나는 20살이며, 빨간색을 좋아해요\n",
            "나는 20살이며, 빨간색을 좋아해요\n"
          ],
          "name": "stdout"
        }
      ]
    },
    {
      "cell_type": "markdown",
      "metadata": {
        "id": "-PXRokSec8Q2"
      },
      "source": [
        "# **4-3 문자열 처리 함수**\n",
        "\n",
        "\n",
        "lower() = 소문자\n",
        "\n",
        "upper() = 대문자\n",
        "\n",
        "isupper() = 대문자인지 확인\n",
        "\n",
        "len() = 길이 구하기\n",
        "\n",
        "index() = 위치 구하기 (없으면 에러)\n",
        "\n",
        "find() = 원하는 값 찾기(없으면 -1 반환)\n",
        "\n",
        "count() = 원하는 값 몇개 있는지\n"
      ]
    },
    {
      "cell_type": "code",
      "metadata": {
        "colab": {
          "base_uri": "https://localhost:8080/"
        },
        "id": "gCEsq-Xgcpd3",
        "outputId": "e4ce14f6-e529-4217-d2a1-5b8e05cf901a"
      },
      "source": [
        "python = \"Python is Amazing\"\n",
        "print(python.lower())\n",
        "print(python.upper())\n",
        "print(python[0].isupper())\n",
        "print(len(python))\n",
        "print(python.replace(\"Python\",\"Java\"))\n",
        "\n",
        "index = python.index(\"n\")\n",
        "print(index)\n",
        "index =python.index(\"n\",index+1)\n",
        "print(index)\n",
        "\n",
        "print(python.find(\"Java\"))\n",
        "\n",
        "print(python.count(\"n\"))"
      ],
      "execution_count": null,
      "outputs": [
        {
          "output_type": "stream",
          "text": [
            "python is amazing\n",
            "PYTHON IS AMAZING\n",
            "True\n",
            "17\n",
            "Java is Amazing\n",
            "5\n",
            "15\n",
            "-1\n",
            "2\n"
          ],
          "name": "stdout"
        }
      ]
    }
  ]
}